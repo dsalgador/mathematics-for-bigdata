{
 "cells": [
  {
   "cell_type": "markdown",
   "metadata": {},
   "source": [
    "# Delivery 3: Machine Learning and Deep Neural Networks with Tensorflow."
   ]
  },
  {
   "cell_type": "markdown",
   "metadata": {},
   "source": [
    "**Author: Dani Salgado Rojo**"
   ]
  },
  {
   "cell_type": "markdown",
   "metadata": {},
   "source": [
    "In this notebook we include code for applying a Deep Neural Networks with Tensorflow to a classification problem.\n",
    "\n",
    "We use the famous Iris dataset that contains data about three clases of iris plants and 4 features for each observation.\n",
    "\n",
    "In a previous delivery (see https://github.com/dsalgador/mathematics-for-bigdata/tree/master/Deliveries/Delivery2) we used TDA (Topological Data Analysis) to analyse the Iris data set with persistence diagrams. These techinques didn't give us a \"immediate\" way to classify the data in three classes, they just allowed us to spearate in two groups (one with a single class and another containing the other two classes).\n",
    "\n",
    "In this delivery we will see if a Deep Neural Network allows us to classify the data in all three classes and with an acceptable accuracy and performance. We reuse and adapt some lines of codes that has been already used for my Master's Thesis in Deep Reinforcement Learning (see Imitation Learning folder in https://github.com/dsalgador/master-thesis )"
   ]
  },
  {
   "cell_type": "markdown",
   "metadata": {},
   "source": [
    "## Visualizing the dataset"
   ]
  },
  {
   "cell_type": "markdown",
   "metadata": {},
   "source": [
    "To familiarize ourselves with the data, we consider the following code that returns some graphical visualizations:\n",
    "* The first one plots the sepal width v.s. the sepal length for each observation, and there are used three colours to distinguish each class of iris plant.\n",
    "* The second plot is a three dimensional plot of the dataset using the first three PCA directions (since we ahve four features, the plot for the whole dataset would be four dimensional)."
   ]
  },
  {
   "cell_type": "code",
   "execution_count": 1,
   "metadata": {},
   "outputs": [
    {
     "data": {
      "text/plain": [
       "<matplotlib.figure.Figure at 0x7fb3e75ac6d8>"
      ]
     },
     "metadata": {},
     "output_type": "display_data"
    },
    {
     "data": {
      "text/plain": [
       "<matplotlib.figure.Figure at 0x7fb3e7f5da58>"
      ]
     },
     "metadata": {},
     "output_type": "display_data"
    }
   ],
   "source": [
    "# Source: http://scikit-learn.org/stable/auto_examples/datasets/plot_iris_dataset.html\n",
    "\n",
    "# Code source: Gaël Varoquaux\n",
    "# Modified for documentation by Jaques Grobler\n",
    "# License: BSD 3 clause\n",
    "\n",
    "import matplotlib.pyplot as plt\n",
    "from mpl_toolkits.mplot3d import Axes3D\n",
    "from sklearn import datasets\n",
    "from sklearn.decomposition import PCA\n",
    "\n",
    "# import some data to play with\n",
    "iris = datasets.load_iris()\n",
    "X = iris.data[:, :2]  # we only take the first two features.\n",
    "y = iris.target\n",
    "\n",
    "x_min, x_max = X[:, 0].min() - .5, X[:, 0].max() + .5\n",
    "y_min, y_max = X[:, 1].min() - .5, X[:, 1].max() + .5\n",
    "\n",
    "plt.figure(2, figsize=(8, 6))\n",
    "plt.clf()\n",
    "\n",
    "# Plot the training points\n",
    "plt.scatter(X[:, 0], X[:, 1], c=y, cmap=plt.cm.Set1,\n",
    "            edgecolor='k')\n",
    "plt.xlabel('Sepal length')\n",
    "plt.ylabel('Sepal width')\n",
    "\n",
    "plt.xlim(x_min, x_max)\n",
    "plt.ylim(y_min, y_max)\n",
    "plt.xticks(())\n",
    "plt.yticks(())\n",
    "\n",
    "# To getter a better understanding of interaction of the dimensions\n",
    "# plot the first three PCA dimensions\n",
    "fig = plt.figure(1, figsize=(8, 6))\n",
    "ax = Axes3D(fig, elev=-150, azim=110)\n",
    "X_reduced = PCA(n_components=3).fit_transform(iris.data)\n",
    "ax.scatter(X_reduced[:, 0], X_reduced[:, 1], X_reduced[:, 2], c=y,\n",
    "           cmap=plt.cm.Set1, edgecolor='k', s=40)\n",
    "ax.set_title(\"First three PCA directions\")\n",
    "ax.set_xlabel(\"1st eigenvector\")\n",
    "ax.w_xaxis.set_ticklabels([])\n",
    "ax.set_ylabel(\"2nd eigenvector\")\n",
    "ax.w_yaxis.set_ticklabels([])\n",
    "ax.set_zlabel(\"3rd eigenvector\")\n",
    "ax.w_zaxis.set_ticklabels([])\n",
    "\n",
    "plt.show()\n"
   ]
  },
  {
   "cell_type": "code",
   "execution_count": 2,
   "metadata": {},
   "outputs": [
    {
     "data": {
      "text/plain": [
       "{'DESCR': 'Iris Plants Database\\n====================\\n\\nNotes\\n-----\\nData Set Characteristics:\\n    :Number of Instances: 150 (50 in each of three classes)\\n    :Number of Attributes: 4 numeric, predictive attributes and the class\\n    :Attribute Information:\\n        - sepal length in cm\\n        - sepal width in cm\\n        - petal length in cm\\n        - petal width in cm\\n        - class:\\n                - Iris-Setosa\\n                - Iris-Versicolour\\n                - Iris-Virginica\\n    :Summary Statistics:\\n\\n    ============== ==== ==== ======= ===== ====================\\n                    Min  Max   Mean    SD   Class Correlation\\n    ============== ==== ==== ======= ===== ====================\\n    sepal length:   4.3  7.9   5.84   0.83    0.7826\\n    sepal width:    2.0  4.4   3.05   0.43   -0.4194\\n    petal length:   1.0  6.9   3.76   1.76    0.9490  (high!)\\n    petal width:    0.1  2.5   1.20  0.76     0.9565  (high!)\\n    ============== ==== ==== ======= ===== ====================\\n\\n    :Missing Attribute Values: None\\n    :Class Distribution: 33.3% for each of 3 classes.\\n    :Creator: R.A. Fisher\\n    :Donor: Michael Marshall (MARSHALL%PLU@io.arc.nasa.gov)\\n    :Date: July, 1988\\n\\nThis is a copy of UCI ML iris datasets.\\nhttp://archive.ics.uci.edu/ml/datasets/Iris\\n\\nThe famous Iris database, first used by Sir R.A Fisher\\n\\nThis is perhaps the best known database to be found in the\\npattern recognition literature.  Fisher\\'s paper is a classic in the field and\\nis referenced frequently to this day.  (See Duda & Hart, for example.)  The\\ndata set contains 3 classes of 50 instances each, where each class refers to a\\ntype of iris plant.  One class is linearly separable from the other 2; the\\nlatter are NOT linearly separable from each other.\\n\\nReferences\\n----------\\n   - Fisher,R.A. \"The use of multiple measurements in taxonomic problems\"\\n     Annual Eugenics, 7, Part II, 179-188 (1936); also in \"Contributions to\\n     Mathematical Statistics\" (John Wiley, NY, 1950).\\n   - Duda,R.O., & Hart,P.E. (1973) Pattern Classification and Scene Analysis.\\n     (Q327.D83) John Wiley & Sons.  ISBN 0-471-22361-1.  See page 218.\\n   - Dasarathy, B.V. (1980) \"Nosing Around the Neighborhood: A New System\\n     Structure and Classification Rule for Recognition in Partially Exposed\\n     Environments\".  IEEE Transactions on Pattern Analysis and Machine\\n     Intelligence, Vol. PAMI-2, No. 1, 67-71.\\n   - Gates, G.W. (1972) \"The Reduced Nearest Neighbor Rule\".  IEEE Transactions\\n     on Information Theory, May 1972, 431-433.\\n   - See also: 1988 MLC Proceedings, 54-64.  Cheeseman et al\"s AUTOCLASS II\\n     conceptual clustering system finds 3 classes in the data.\\n   - Many, many more ...\\n',\n",
       " 'data': array([[5.1, 3.5, 1.4, 0.2],\n",
       "        [4.9, 3. , 1.4, 0.2],\n",
       "        [4.7, 3.2, 1.3, 0.2],\n",
       "        [4.6, 3.1, 1.5, 0.2],\n",
       "        [5. , 3.6, 1.4, 0.2],\n",
       "        [5.4, 3.9, 1.7, 0.4],\n",
       "        [4.6, 3.4, 1.4, 0.3],\n",
       "        [5. , 3.4, 1.5, 0.2],\n",
       "        [4.4, 2.9, 1.4, 0.2],\n",
       "        [4.9, 3.1, 1.5, 0.1],\n",
       "        [5.4, 3.7, 1.5, 0.2],\n",
       "        [4.8, 3.4, 1.6, 0.2],\n",
       "        [4.8, 3. , 1.4, 0.1],\n",
       "        [4.3, 3. , 1.1, 0.1],\n",
       "        [5.8, 4. , 1.2, 0.2],\n",
       "        [5.7, 4.4, 1.5, 0.4],\n",
       "        [5.4, 3.9, 1.3, 0.4],\n",
       "        [5.1, 3.5, 1.4, 0.3],\n",
       "        [5.7, 3.8, 1.7, 0.3],\n",
       "        [5.1, 3.8, 1.5, 0.3],\n",
       "        [5.4, 3.4, 1.7, 0.2],\n",
       "        [5.1, 3.7, 1.5, 0.4],\n",
       "        [4.6, 3.6, 1. , 0.2],\n",
       "        [5.1, 3.3, 1.7, 0.5],\n",
       "        [4.8, 3.4, 1.9, 0.2],\n",
       "        [5. , 3. , 1.6, 0.2],\n",
       "        [5. , 3.4, 1.6, 0.4],\n",
       "        [5.2, 3.5, 1.5, 0.2],\n",
       "        [5.2, 3.4, 1.4, 0.2],\n",
       "        [4.7, 3.2, 1.6, 0.2],\n",
       "        [4.8, 3.1, 1.6, 0.2],\n",
       "        [5.4, 3.4, 1.5, 0.4],\n",
       "        [5.2, 4.1, 1.5, 0.1],\n",
       "        [5.5, 4.2, 1.4, 0.2],\n",
       "        [4.9, 3.1, 1.5, 0.1],\n",
       "        [5. , 3.2, 1.2, 0.2],\n",
       "        [5.5, 3.5, 1.3, 0.2],\n",
       "        [4.9, 3.1, 1.5, 0.1],\n",
       "        [4.4, 3. , 1.3, 0.2],\n",
       "        [5.1, 3.4, 1.5, 0.2],\n",
       "        [5. , 3.5, 1.3, 0.3],\n",
       "        [4.5, 2.3, 1.3, 0.3],\n",
       "        [4.4, 3.2, 1.3, 0.2],\n",
       "        [5. , 3.5, 1.6, 0.6],\n",
       "        [5.1, 3.8, 1.9, 0.4],\n",
       "        [4.8, 3. , 1.4, 0.3],\n",
       "        [5.1, 3.8, 1.6, 0.2],\n",
       "        [4.6, 3.2, 1.4, 0.2],\n",
       "        [5.3, 3.7, 1.5, 0.2],\n",
       "        [5. , 3.3, 1.4, 0.2],\n",
       "        [7. , 3.2, 4.7, 1.4],\n",
       "        [6.4, 3.2, 4.5, 1.5],\n",
       "        [6.9, 3.1, 4.9, 1.5],\n",
       "        [5.5, 2.3, 4. , 1.3],\n",
       "        [6.5, 2.8, 4.6, 1.5],\n",
       "        [5.7, 2.8, 4.5, 1.3],\n",
       "        [6.3, 3.3, 4.7, 1.6],\n",
       "        [4.9, 2.4, 3.3, 1. ],\n",
       "        [6.6, 2.9, 4.6, 1.3],\n",
       "        [5.2, 2.7, 3.9, 1.4],\n",
       "        [5. , 2. , 3.5, 1. ],\n",
       "        [5.9, 3. , 4.2, 1.5],\n",
       "        [6. , 2.2, 4. , 1. ],\n",
       "        [6.1, 2.9, 4.7, 1.4],\n",
       "        [5.6, 2.9, 3.6, 1.3],\n",
       "        [6.7, 3.1, 4.4, 1.4],\n",
       "        [5.6, 3. , 4.5, 1.5],\n",
       "        [5.8, 2.7, 4.1, 1. ],\n",
       "        [6.2, 2.2, 4.5, 1.5],\n",
       "        [5.6, 2.5, 3.9, 1.1],\n",
       "        [5.9, 3.2, 4.8, 1.8],\n",
       "        [6.1, 2.8, 4. , 1.3],\n",
       "        [6.3, 2.5, 4.9, 1.5],\n",
       "        [6.1, 2.8, 4.7, 1.2],\n",
       "        [6.4, 2.9, 4.3, 1.3],\n",
       "        [6.6, 3. , 4.4, 1.4],\n",
       "        [6.8, 2.8, 4.8, 1.4],\n",
       "        [6.7, 3. , 5. , 1.7],\n",
       "        [6. , 2.9, 4.5, 1.5],\n",
       "        [5.7, 2.6, 3.5, 1. ],\n",
       "        [5.5, 2.4, 3.8, 1.1],\n",
       "        [5.5, 2.4, 3.7, 1. ],\n",
       "        [5.8, 2.7, 3.9, 1.2],\n",
       "        [6. , 2.7, 5.1, 1.6],\n",
       "        [5.4, 3. , 4.5, 1.5],\n",
       "        [6. , 3.4, 4.5, 1.6],\n",
       "        [6.7, 3.1, 4.7, 1.5],\n",
       "        [6.3, 2.3, 4.4, 1.3],\n",
       "        [5.6, 3. , 4.1, 1.3],\n",
       "        [5.5, 2.5, 4. , 1.3],\n",
       "        [5.5, 2.6, 4.4, 1.2],\n",
       "        [6.1, 3. , 4.6, 1.4],\n",
       "        [5.8, 2.6, 4. , 1.2],\n",
       "        [5. , 2.3, 3.3, 1. ],\n",
       "        [5.6, 2.7, 4.2, 1.3],\n",
       "        [5.7, 3. , 4.2, 1.2],\n",
       "        [5.7, 2.9, 4.2, 1.3],\n",
       "        [6.2, 2.9, 4.3, 1.3],\n",
       "        [5.1, 2.5, 3. , 1.1],\n",
       "        [5.7, 2.8, 4.1, 1.3],\n",
       "        [6.3, 3.3, 6. , 2.5],\n",
       "        [5.8, 2.7, 5.1, 1.9],\n",
       "        [7.1, 3. , 5.9, 2.1],\n",
       "        [6.3, 2.9, 5.6, 1.8],\n",
       "        [6.5, 3. , 5.8, 2.2],\n",
       "        [7.6, 3. , 6.6, 2.1],\n",
       "        [4.9, 2.5, 4.5, 1.7],\n",
       "        [7.3, 2.9, 6.3, 1.8],\n",
       "        [6.7, 2.5, 5.8, 1.8],\n",
       "        [7.2, 3.6, 6.1, 2.5],\n",
       "        [6.5, 3.2, 5.1, 2. ],\n",
       "        [6.4, 2.7, 5.3, 1.9],\n",
       "        [6.8, 3. , 5.5, 2.1],\n",
       "        [5.7, 2.5, 5. , 2. ],\n",
       "        [5.8, 2.8, 5.1, 2.4],\n",
       "        [6.4, 3.2, 5.3, 2.3],\n",
       "        [6.5, 3. , 5.5, 1.8],\n",
       "        [7.7, 3.8, 6.7, 2.2],\n",
       "        [7.7, 2.6, 6.9, 2.3],\n",
       "        [6. , 2.2, 5. , 1.5],\n",
       "        [6.9, 3.2, 5.7, 2.3],\n",
       "        [5.6, 2.8, 4.9, 2. ],\n",
       "        [7.7, 2.8, 6.7, 2. ],\n",
       "        [6.3, 2.7, 4.9, 1.8],\n",
       "        [6.7, 3.3, 5.7, 2.1],\n",
       "        [7.2, 3.2, 6. , 1.8],\n",
       "        [6.2, 2.8, 4.8, 1.8],\n",
       "        [6.1, 3. , 4.9, 1.8],\n",
       "        [6.4, 2.8, 5.6, 2.1],\n",
       "        [7.2, 3. , 5.8, 1.6],\n",
       "        [7.4, 2.8, 6.1, 1.9],\n",
       "        [7.9, 3.8, 6.4, 2. ],\n",
       "        [6.4, 2.8, 5.6, 2.2],\n",
       "        [6.3, 2.8, 5.1, 1.5],\n",
       "        [6.1, 2.6, 5.6, 1.4],\n",
       "        [7.7, 3. , 6.1, 2.3],\n",
       "        [6.3, 3.4, 5.6, 2.4],\n",
       "        [6.4, 3.1, 5.5, 1.8],\n",
       "        [6. , 3. , 4.8, 1.8],\n",
       "        [6.9, 3.1, 5.4, 2.1],\n",
       "        [6.7, 3.1, 5.6, 2.4],\n",
       "        [6.9, 3.1, 5.1, 2.3],\n",
       "        [5.8, 2.7, 5.1, 1.9],\n",
       "        [6.8, 3.2, 5.9, 2.3],\n",
       "        [6.7, 3.3, 5.7, 2.5],\n",
       "        [6.7, 3. , 5.2, 2.3],\n",
       "        [6.3, 2.5, 5. , 1.9],\n",
       "        [6.5, 3. , 5.2, 2. ],\n",
       "        [6.2, 3.4, 5.4, 2.3],\n",
       "        [5.9, 3. , 5.1, 1.8]]),\n",
       " 'feature_names': ['sepal length (cm)',\n",
       "  'sepal width (cm)',\n",
       "  'petal length (cm)',\n",
       "  'petal width (cm)'],\n",
       " 'target': array([0, 0, 0, 0, 0, 0, 0, 0, 0, 0, 0, 0, 0, 0, 0, 0, 0, 0, 0, 0, 0, 0,\n",
       "        0, 0, 0, 0, 0, 0, 0, 0, 0, 0, 0, 0, 0, 0, 0, 0, 0, 0, 0, 0, 0, 0,\n",
       "        0, 0, 0, 0, 0, 0, 1, 1, 1, 1, 1, 1, 1, 1, 1, 1, 1, 1, 1, 1, 1, 1,\n",
       "        1, 1, 1, 1, 1, 1, 1, 1, 1, 1, 1, 1, 1, 1, 1, 1, 1, 1, 1, 1, 1, 1,\n",
       "        1, 1, 1, 1, 1, 1, 1, 1, 1, 1, 1, 1, 2, 2, 2, 2, 2, 2, 2, 2, 2, 2,\n",
       "        2, 2, 2, 2, 2, 2, 2, 2, 2, 2, 2, 2, 2, 2, 2, 2, 2, 2, 2, 2, 2, 2,\n",
       "        2, 2, 2, 2, 2, 2, 2, 2, 2, 2, 2, 2, 2, 2, 2, 2, 2, 2]),\n",
       " 'target_names': array(['setosa', 'versicolor', 'virginica'], dtype='<U10')}"
      ]
     },
     "execution_count": 2,
     "metadata": {},
     "output_type": "execute_result"
    }
   ],
   "source": [
    "iris"
   ]
  },
  {
   "cell_type": "code",
   "execution_count": 3,
   "metadata": {},
   "outputs": [
    {
     "name": "stdout",
     "output_type": "stream",
     "text": [
      "There are 3 classes and observations with 4 features\n"
     ]
    }
   ],
   "source": [
    "import numpy as np\n",
    "\n",
    "n_classes = len(np.unique(iris.target))\n",
    "n_features = len(iris.feature_names)\n",
    "print(\"There are {} classes and observations with {} features\".format(n_classes, n_features))"
   ]
  },
  {
   "cell_type": "markdown",
   "metadata": {},
   "source": [
    "# Preparing data for training, validating and testing"
   ]
  },
  {
   "cell_type": "code",
   "execution_count": 4,
   "metadata": {},
   "outputs": [],
   "source": [
    "import pandas as pd\n",
    "\n",
    "#Observations\n",
    "X = pd.DataFrame(iris.data)\n",
    "#Targets\n",
    "y= pd.DataFrame(iris.target)"
   ]
  },
  {
   "cell_type": "code",
   "execution_count": 5,
   "metadata": {},
   "outputs": [
    {
     "data": {
      "text/html": [
       "<div>\n",
       "<style scoped>\n",
       "    .dataframe tbody tr th:only-of-type {\n",
       "        vertical-align: middle;\n",
       "    }\n",
       "\n",
       "    .dataframe tbody tr th {\n",
       "        vertical-align: top;\n",
       "    }\n",
       "\n",
       "    .dataframe thead th {\n",
       "        text-align: right;\n",
       "    }\n",
       "</style>\n",
       "<table border=\"1\" class=\"dataframe\">\n",
       "  <thead>\n",
       "    <tr style=\"text-align: right;\">\n",
       "      <th></th>\n",
       "      <th>0</th>\n",
       "      <th>1</th>\n",
       "      <th>2</th>\n",
       "      <th>3</th>\n",
       "    </tr>\n",
       "  </thead>\n",
       "  <tbody>\n",
       "    <tr>\n",
       "      <th>0</th>\n",
       "      <td>5.1</td>\n",
       "      <td>3.5</td>\n",
       "      <td>1.4</td>\n",
       "      <td>0.2</td>\n",
       "    </tr>\n",
       "    <tr>\n",
       "      <th>1</th>\n",
       "      <td>4.9</td>\n",
       "      <td>3.0</td>\n",
       "      <td>1.4</td>\n",
       "      <td>0.2</td>\n",
       "    </tr>\n",
       "    <tr>\n",
       "      <th>2</th>\n",
       "      <td>4.7</td>\n",
       "      <td>3.2</td>\n",
       "      <td>1.3</td>\n",
       "      <td>0.2</td>\n",
       "    </tr>\n",
       "    <tr>\n",
       "      <th>3</th>\n",
       "      <td>4.6</td>\n",
       "      <td>3.1</td>\n",
       "      <td>1.5</td>\n",
       "      <td>0.2</td>\n",
       "    </tr>\n",
       "    <tr>\n",
       "      <th>4</th>\n",
       "      <td>5.0</td>\n",
       "      <td>3.6</td>\n",
       "      <td>1.4</td>\n",
       "      <td>0.2</td>\n",
       "    </tr>\n",
       "  </tbody>\n",
       "</table>\n",
       "</div>"
      ],
      "text/plain": [
       "     0    1    2    3\n",
       "0  5.1  3.5  1.4  0.2\n",
       "1  4.9  3.0  1.4  0.2\n",
       "2  4.7  3.2  1.3  0.2\n",
       "3  4.6  3.1  1.5  0.2\n",
       "4  5.0  3.6  1.4  0.2"
      ]
     },
     "execution_count": 5,
     "metadata": {},
     "output_type": "execute_result"
    }
   ],
   "source": [
    "X.head()"
   ]
  },
  {
   "cell_type": "code",
   "execution_count": 6,
   "metadata": {},
   "outputs": [
    {
     "data": {
      "image/png": "[encoded data removed]",
      "text/plain": [
       "<matplotlib.figure.Figure at 0x7fb3e5315ba8>"
      ]
     },
     "metadata": {},
     "output_type": "display_data"
    }
   ],
   "source": [
    "%matplotlib inline\n",
    "X.hist();"
   ]
  },
  {
   "cell_type": "code",
   "execution_count": 7,
   "metadata": {},
   "outputs": [
    {
     "name": "stdout",
     "output_type": "stream",
     "text": [
      "150\n"
     ]
    }
   ],
   "source": [
    "n = len(X)\n",
    "print(n)"
   ]
  },
  {
   "cell_type": "markdown",
   "metadata": {},
   "source": [
    "## Split the dataset in train and test subdatasets"
   ]
  },
  {
   "cell_type": "markdown",
   "metadata": {},
   "source": [
    "Since the whole dataset only contains 150 observations, we will only consider a train and test subdatasets (not a validation one) to perform classification analysis."
   ]
  },
  {
   "cell_type": "code",
   "execution_count": 8,
   "metadata": {},
   "outputs": [],
   "source": [
    "from sklearn.model_selection import StratifiedKFold\n",
    "from sklearn.base import clone"
   ]
  },
  {
   "cell_type": "code",
   "execution_count": 9,
   "metadata": {},
   "outputs": [],
   "source": [
    "np.random.seed(42)\n",
    "shuffle_index = np.random.permutation(n)\n",
    "X = iris.data[shuffle_index]; y = iris.target[shuffle_index]\n",
    "\n",
    "n_train = int(np.ceil(0.8 * n))\n",
    "n_test = n - n_train\n",
    "\n",
    "X_train = X[0:n_train].astype('float32'); y_train = y[0:n_train];\n",
    "X_test = X[n_train:].astype('float32'); y_test = y[n_train:];"
   ]
  },
  {
   "cell_type": "code",
   "execution_count": 10,
   "metadata": {},
   "outputs": [
    {
     "data": {
      "text/plain": [
       "array([[5.7, 3.8, 1.7, 0.3],\n",
       "       [7.7, 2.6, 6.9, 2.3],\n",
       "       [6. , 2.9, 4.5, 1.5],\n",
       "       [6.8, 2.8, 4.8, 1.4]], dtype=float32)"
      ]
     },
     "execution_count": 10,
     "metadata": {},
     "output_type": "execute_result"
    }
   ],
   "source": [
    "X_train[1:5]"
   ]
  },
  {
   "cell_type": "markdown",
   "metadata": {},
   "source": [
    "# Deep Neural Network Classifier in Tensorflow"
   ]
  },
  {
   "cell_type": "code",
   "execution_count": 11,
   "metadata": {},
   "outputs": [
    {
     "name": "stderr",
     "output_type": "stream",
     "text": [
      "/home/dsalgador/anaconda3/envs/tensorflow/lib/python3.5/site-packages/h5py/__init__.py:36: FutureWarning: Conversion of the second argument of issubdtype from `float` to `np.floating` is deprecated. In future, it will be treated as `np.float64 == np.dtype(float).type`.\n",
      "  from ._conv import register_converters as _register_converters\n"
     ]
    }
   ],
   "source": [
    "import tensorflow as tf\n",
    "import os\n",
    "import time \n",
    "\n",
    "from sklearn.preprocessing import StandardScaler\n",
    "from datetime import datetime\n"
   ]
  },
  {
   "cell_type": "code",
   "execution_count": 12,
   "metadata": {},
   "outputs": [],
   "source": [
    "def reset_graph(seed=42):\n",
    "    tf.reset_default_graph()\n",
    "    tf.set_random_seed(seed)\n",
    "    np.random.seed(seed)\n",
    "    \n",
    "# Create a simulations' directory\n",
    "sim_directory = './simulations'\n",
    "if not os.path.exists(sim_directory):\n",
    "    os.makedirs(sim_directory)"
   ]
  },
  {
   "cell_type": "markdown",
   "metadata": {},
   "source": [
    "## Deep Neural Network model (architecture)"
   ]
  },
  {
   "cell_type": "code",
   "execution_count": 13,
   "metadata": {},
   "outputs": [],
   "source": [
    "SIMULATION = 10\n",
    "\n",
    "# Simulation parameters\n",
    "simulation_directory = './simulations/simulation{}'.format(SIMULATION)\n",
    "if not os.path.exists(simulation_directory):\n",
    "    os.makedirs(simulation_directory)\n",
    "else:\n",
    "    raise Exception(\"The simulation id you tried to use has been already used before. Try to change it to a new one.\")\n",
    "    \n",
    "model_file = simulation_directory + '/final_nn_classifier_sim{}.ckpt'.format(SIMULATION)\n",
    "graph_file =  '{}.meta'.format(model_file)  \n",
    "\n",
    "# File to output performance metrics during training\n",
    "training_file = simulation_directory+'/training-metrics.csv'.format(SIMULATION)\n",
    "\n",
    "#test_file = simulation_directory+'/testing-states.csv'.format(SIMULATION)"
   ]
  },
  {
   "cell_type": "code",
   "execution_count": 14,
   "metadata": {},
   "outputs": [
    {
     "name": "stdout",
     "output_type": "stream",
     "text": [
      "WARNING:tensorflow:From /home/dsalgador/anaconda3/envs/tensorflow/lib/python3.5/site-packages/tensorflow/contrib/learn/python/learn/datasets/base.py:198: retry (from tensorflow.contrib.learn.python.learn.datasets.base) is deprecated and will be removed in a future version.\n",
      "Instructions for updating:\n",
      "Use the retry module or similar alternatives.\n"
     ]
    }
   ],
   "source": [
    "reset_graph()\n",
    "\n",
    "seed = 42\n",
    "learning_rate = 0.001 #0.01\n",
    "\n",
    "epochs = 3000 \n",
    "batch_size = 10 #50\n",
    "\n",
    "summary_freq = 10#np.ceil(epochs/10) #200\n",
    "output_freq = 10*summary_freq #np.ceil(epochs/10) #200\n",
    "\n",
    "\n",
    "hidden1_neurons = 20 #100\n",
    "hidden2_neurons = 10 #50\n",
    "\n",
    "scaling = True\n",
    "\n",
    "regularization = True\n",
    "beta = 0.01\n",
    "\n",
    "if scaling:\n",
    "    scaler = StandardScaler()\n",
    "    X_train = scaler.fit_transform(X_train.astype(np.float64))\n",
    "    #X_val = scaler.fit_transform(X_val.astype(np.float64))\n",
    "    X_test = scaler.fit_transform(X_test.astype(np.float64))\n",
    "    model_file = simulation_directory + '/final_nn_classifier_scaled_sim{}.ckpt'.format(SIMULATION)\n",
    "\n",
    "tf.set_random_seed(seed)\n",
    "\n",
    "with tf.name_scope(\"dnn\"):\n",
    "            # 1. Parameters to determine the NN architecture\n",
    "\n",
    "            n_inputs = n_features\n",
    "            n_hidden1 = hidden1_neurons; activation1 = tf.nn.sigmoid\n",
    "            n_hidden2 = hidden2_neurons; activation2 = tf.nn.sigmoid\n",
    "            n_outputs = n_classes\n",
    "\n",
    "            initializer = tf.contrib.layers.variance_scaling_initializer(seed = seed)\n",
    "            \n",
    "            # Regularization of weights\n",
    "#             if regularization:\n",
    "#                 regularizer = tf.contrib.layers.l2_regularizer(scale = beta)\n",
    "#             else:\n",
    "            regularizer = None\n",
    "            # 2. Build the Neural Network\n",
    "            \n",
    "            X = tf.placeholder(tf.float32, shape = (None, n_inputs), name = \"X\")\n",
    "            y = tf.placeholder(tf.int64, shape = (None), name = \"y\")\n",
    "            \n",
    "            hidden1 = tf.layers.dense(X, n_hidden1, activation = activation1,\n",
    "                                     kernel_initializer = initializer,\n",
    "                                     kernel_regularizer = regularizer,\n",
    "                                     name = \"hidden1\")\n",
    "            hidden2 = tf.layers.dense(hidden1, n_hidden2, activation = activation2,\n",
    "                                     kernel_initializer = regularizer,\n",
    "                                     name =\"hidden2\")\n",
    "            logits = tf.layers.dense(hidden2, n_outputs,kernel_initializer = initializer,\n",
    "                                    kernel_regularizer = regularizer,\n",
    "                                    name = \"hidden3\")\n",
    "            \n",
    "            if regularization:\n",
    "                dim1 = [n_inputs, n_hidden1, n_hidden2]\n",
    "                dim2 = [n_hidden1, n_hidden2 , n_outputs]\n",
    "\n",
    "                all_weights = []\n",
    "\n",
    "                for i in range(1,4):\n",
    "                    with tf.variable_scope(\"hidden{}\".format(i), reuse=tf.AUTO_REUSE):\n",
    "                        weights = tf.get_variable('kernel', shape = [dim1[i-1], dim2[i-1]])\n",
    "                        tf.summary.histogram('weights-hidden-{}'.format(i), weights)\n",
    "                        all_weights.append(weights)\n",
    "\n",
    "            \n",
    "with tf.name_scope(\"loss\"):\n",
    "            if regularization:\n",
    "                regularizer =  tf.nn.l2_loss(all_weights[0])\n",
    "                for i in range(1,len(all_weights)):\n",
    "                    regularizer = regularizer + tf.nn.l2_loss(all_weights[i])\n",
    "            \n",
    "            xentropy = tf.nn.sparse_softmax_cross_entropy_with_logits(labels = y,\n",
    "                                                                      logits = logits)\n",
    "            if regularization:\n",
    "                xentropy = xentropy + beta * regularizer\n",
    "            \n",
    "            loss = tf.reduce_mean(xentropy, name = \"loss\")\n",
    "            \n",
    "#             if regularization:\n",
    "#                 reg_losses = tf.get_collection(tf.GraphKeys.REGULARIZATION_LOSSES)\n",
    "#                 loss = loss +  sum(reg_losses) # * beta\n",
    "       \n",
    "tf.summary.scalar('average_cross_entropy', loss)\n",
    "            \n",
    "with tf.name_scope(\"train\"):\n",
    "            # Optimization Op\n",
    "            optimizer = tf.train.AdamOptimizer(learning_rate)\n",
    "            optimize = optimizer.minimize(loss)\n",
    "            \n",
    "with tf.name_scope(\"eval\"):\n",
    "            # Accuracy\n",
    "            correct = tf.nn.in_top_k(logits, y, 1)\n",
    "            accuracy = tf.reduce_mean(tf.cast(correct,tf.float32))\n",
    "tf.summary.scalar('accuracy', accuracy)\n",
    "\n",
    "            \n",
    "with tf.name_scope(\"action\"):\n",
    "            outputs = tf.nn.softmax(logits)\n",
    "            # 3. Select a predicted class based on the estimated probabilities\n",
    "            #predicted_class = tf.multinomial(tf.log(outputs), num_samples = 1)\n",
    "            predicted_class = tf.argmax(outputs, axis = 1)\n",
    "with tf.name_scope(\"confusion-matrix\"):\n",
    "            # Confusion matrix\n",
    "            conf_mx = tf.confusion_matrix(labels=y, predictions=predicted_class)\n",
    "            \n",
    "merged = tf.summary.merge_all()\n",
    "init = tf.global_variables_initializer()\n",
    "        \n",
    "if model_file != None:\n",
    "            saver = tf.train.Saver()\n",
    "        \n",
    "\n",
    "def fetch_batch(X,y,epoch, batch_index, batch_size, data_size, n_batches):\n",
    "        np.random.seed(epoch * n_batches + batch_index)  \n",
    "        indices = np.random.randint(data_size, size=batch_size)  \n",
    "        X_batch = X[indices] \n",
    "        y_batch = y[indices] \n",
    "        return X_batch, y_batch\n",
    "\n",
    "now = datetime.utcnow().strftime(\"%Y%m%d%H%M%S\")\n",
    "root_logdir = sim_directory +\"/tf_logs\"\n",
    "log_dir = \"{}/run-{}-sim{}/\".format(root_logdir, now, SIMULATION)"
   ]
  },
  {
   "cell_type": "markdown",
   "metadata": {},
   "source": [
    "## Training"
   ]
  },
  {
   "cell_type": "code",
   "execution_count": 15,
   "metadata": {},
   "outputs": [
    {
     "name": "stdout",
     "output_type": "stream",
     "text": [
      "Epoch: 0. Batch accuracy:  0.6  test. accuracy:  0.3333  Best test. accuracy:  0\n",
      "Epoch: 100. Batch accuracy:  0.9  test. accuracy:  0.8333  Best test. accuracy:  0.9\n",
      "Epoch: 200. Batch accuracy:  1.0  test. accuracy:  0.9  Best test. accuracy:  0.9\n",
      "Epoch: 300. Batch accuracy:  1.0  test. accuracy:  0.9  Best test. accuracy:  0.9\n",
      "Epoch: 400. Batch accuracy:  1.0  test. accuracy:  0.9  Best test. accuracy:  0.9333\n",
      "Epoch: 500. Batch accuracy:  1.0  test. accuracy:  0.9  Best test. accuracy:  0.9333\n",
      "Epoch: 600. Batch accuracy:  1.0  test. accuracy:  0.9333  Best test. accuracy:  0.9333\n",
      "Epoch: 700. Batch accuracy:  1.0  test. accuracy:  0.9333  Best test. accuracy:  0.9333\n",
      "Epoch: 800. Batch accuracy:  1.0  test. accuracy:  0.9  Best test. accuracy:  0.9333\n",
      "Epoch: 900. Batch accuracy:  1.0  test. accuracy:  0.9333  Best test. accuracy:  0.9333\n",
      "Epoch: 1000. Batch accuracy:  1.0  test. accuracy:  0.9  Best test. accuracy:  0.9333\n",
      "Epoch: 1100. Batch accuracy:  1.0  test. accuracy:  0.9  Best test. accuracy:  0.9333\n",
      "Epoch: 1200. Batch accuracy:  1.0  test. accuracy:  0.9  Best test. accuracy:  0.9333\n",
      "Epoch: 1300. Batch accuracy:  0.9  test. accuracy:  0.9  Best test. accuracy:  0.9333\n",
      "Epoch: 1400. Batch accuracy:  1.0  test. accuracy:  0.9333  Best test. accuracy:  0.9333\n",
      "Epoch: 1500. Batch accuracy:  1.0  test. accuracy:  0.8667  Best test. accuracy:  0.9333\n",
      "Epoch: 1600. Batch accuracy:  1.0  test. accuracy:  0.9  Best test. accuracy:  0.9333\n",
      "Epoch: 1700. Batch accuracy:  0.9  test. accuracy:  0.9  Best test. accuracy:  0.9333\n",
      "Epoch: 1800. Batch accuracy:  1.0  test. accuracy:  0.9  Best test. accuracy:  0.9333\n",
      "Epoch: 1900. Batch accuracy:  1.0  test. accuracy:  0.9  Best test. accuracy:  0.9333\n",
      "Epoch: 2000. Batch accuracy:  1.0  test. accuracy:  0.9333  Best test. accuracy:  0.9333\n",
      "Epoch: 2100. Batch accuracy:  1.0  test. accuracy:  0.9  Best test. accuracy:  0.9333\n",
      "Epoch: 2200. Batch accuracy:  1.0  test. accuracy:  0.9333  Best test. accuracy:  0.9333\n",
      "Epoch: 2300. Batch accuracy:  0.9  test. accuracy:  0.9333  Best test. accuracy:  0.9333\n",
      "Epoch: 2400. Batch accuracy:  1.0  test. accuracy:  0.9  Best test. accuracy:  0.9333\n",
      "Epoch: 2500. Batch accuracy:  1.0  test. accuracy:  0.8333  Best test. accuracy:  0.9333\n",
      "Epoch: 2600. Batch accuracy:  0.9  test. accuracy:  0.9  Best test. accuracy:  0.9333\n",
      "Epoch: 2700. Batch accuracy:  0.9  test. accuracy:  0.9333  Best test. accuracy:  0.9333\n",
      "Epoch: 2800. Batch accuracy:  1.0  test. accuracy:  0.9  Best test. accuracy:  0.9333\n",
      "Epoch: 2900. Batch accuracy:  0.9  test. accuracy:  0.9  Best test. accuracy:  0.9333\n",
      "Epoch: 3000. Batch accuracy:  1.0  test. accuracy:  0.9  Best test. accuracy:  0.9333\n",
      "Elapsed time:  0.22  minutes.  Best Test accuracy:  0.93333334\n"
     ]
    }
   ],
   "source": [
    "round_time = 2\n",
    "    \n",
    "best_acc_val = 0\n",
    "acc_val = 0\n",
    "\n",
    "# Output headers to file\n",
    "with open(training_file,'w') as f:\n",
    "     np.savetxt(f, [[\"epoch\", \"acc_train\", \"acc_test\", \"best_acc_test\"]], fmt=\"%s\", delimiter=',')    \n",
    "\n",
    "with tf.Session() as sess:\n",
    "        tf.set_random_seed(seed)\n",
    "\n",
    "        time_start = time.time()\n",
    "        \n",
    "        train_writer = tf.summary.FileWriter(log_dir + '/train', sess.graph)\n",
    "        val_writer = tf.summary.FileWriter(log_dir + '/test')\n",
    "        \n",
    "        init.run()\n",
    "        N_TRAIN = X_train.shape[0]\n",
    "        m = y_train.shape[0]\n",
    "        \n",
    "        n_batches = int(np.ceil(N_TRAIN/ batch_size))\n",
    "             \n",
    "        for epoch in range(epochs+1):\n",
    "            print(\"\\rEpoch: {}\".format(epoch), end=\"\")            \n",
    "            for batch_index in range(n_batches):\n",
    "                X_batch, y_batch = fetch_batch(X_train,y_train,epoch, batch_index, batch_size, m, n_batches)\n",
    "                sess.run(optimize, feed_dict={\n",
    "                                    y: y_batch,\n",
    "                                    X: X_batch\n",
    "                                })\n",
    "            \n",
    "            # Summaries, runtime outputs and data to files.\n",
    "            if summary_freq != None: \n",
    "                            \n",
    "                if epoch % summary_freq  == 0:\n",
    "                    \n",
    "\n",
    "                    summary, acc_train = sess.run([merged, accuracy], feed_dict={\n",
    "                                        y: y_batch,\n",
    "                                        X: X_batch\n",
    "                                    })\n",
    "                    train_writer.add_summary(summary, epoch)\n",
    "\n",
    "                    summary, acc_val = sess.run([merged, accuracy], feed_dict={\n",
    "                                        y: y_test,\n",
    "                                        X: X_test\n",
    "                                    }) \n",
    "                                    \n",
    "                    val_writer.add_summary(summary, epoch)\n",
    "                    \n",
    "                    time_end = time.time()\n",
    "                    if epoch % output_freq  == 0:\n",
    "                        print(\". Batch accuracy: \", round(acc_train, 4), \n",
    "                              \" test. accuracy: \", round(acc_val,4),\n",
    "                             \" Best test. accuracy: \", round(best_acc_val, 4))#,\n",
    "                             #\" Elapsed time: \", round( (time_end-time_start)/60., round_time), \" min.\")\n",
    "                    if best_acc_val < acc_val:                        \n",
    "                        save_path = saver.save(sess, model_file)\n",
    "                        #print(\". Saved model with validation accuracy \", acc_val)\n",
    "                        \n",
    "                    best_acc_val = max(best_acc_val, acc_val)\n",
    "                    \n",
    "                    # Output data to files\n",
    "                    with open(training_file,'ab') as f:\n",
    "                         np.savetxt(f, [np.array([epoch, acc_train, acc_val, best_acc_val])], fmt='%.6f', delimiter=',')    \n",
    "        \n",
    "        train_writer.close()\n",
    "        val_writer.close()\n",
    "        time_end = time.time()\n",
    "        print(\"\\rElapsed time: \", round( (time_end-time_start)/60., round_time), \" minutes.\", \" Best Test accuracy: \", best_acc_val)\n",
    "        #save_path = saver.save(sess, model_file)   "
   ]
  },
  {
   "cell_type": "markdown",
   "metadata": {},
   "source": [
    "### Visualizing training performance"
   ]
  },
  {
   "cell_type": "code",
   "execution_count": 16,
   "metadata": {},
   "outputs": [
    {
     "name": "stderr",
     "output_type": "stream",
     "text": [
      "/home/dsalgador/anaconda3/envs/tensorflow/lib/python3.5/site-packages/pandas/core/series.py:696: FutureWarning: \n",
      "Passing list-likes to .loc or [] with any missing label will raise\n",
      "KeyError in the future, you can use .reindex() as an alternative.\n",
      "\n",
      "See the documentation here:\n",
      "http://pandas.pydata.org/pandas-docs/stable/indexing.html#deprecate-loc-reindex-listlike\n",
      "  return self.loc[key]\n"
     ]
    },
    {
     "data": {
      "image/png": "[encoded data removed]",
      "text/plain": [
       "<matplotlib.figure.Figure at 0x7fb3bfc7b160>"
      ]
     },
     "metadata": {},
     "output_type": "display_data"
    }
   ],
   "source": [
    "metrics = pd.read_table(training_file, sep = \",\")\n",
    "metrics.head()\n",
    "\n",
    "def plot_accuracy(metrics):\n",
    "    indices = [i for i in range(0,1000,10)]\n",
    "    plt.plot(metrics['epoch'][indices],metrics['acc_train'][indices], label = \"Batch accuracy\")\n",
    "    plt.plot(metrics['epoch'][indices],metrics['acc_test'][indices], label = \"Test accuracy\")\n",
    "    plt.plot(metrics['epoch'][indices],metrics['best_acc_test'][indices], label = \"Best test accuracy\",linestyle = '--',linewidth = 2.0)\n",
    "\n",
    "    plt.xlabel(\"Epoch\")\n",
    "    plt.ylabel(\"Accuracy\")\n",
    "    plt.legend(loc='lower right')\n",
    "    plt.ylim(.0,1.0)\n",
    "    \n",
    "plot_accuracy(metrics) \n",
    "plt.title(\"First hidden layer {} neurons, second {} neurons\".format(n_hidden1, n_hidden2))\n",
    "\n",
    "plt.show()\n",
    "plt.close()"
   ]
  },
  {
   "cell_type": "markdown",
   "metadata": {},
   "source": [
    "We obtained a model that has at leat 0.9667 accuracy, which is very high if we take into account the fact \n",
    "that the test set is of 30 observations, and the 96.67% of 30 is 29, which means that only 1 test observation is predicted wrong."
   ]
  },
  {
   "cell_type": "markdown",
   "metadata": {
    "collapsed": true
   },
   "source": [
    "If we use high batch sizes and no regularization, the network tends to overfitt the training data and then it generalizes very poorly for test data, leading to very low accuracies (abour 70 and 80 % instead of 96%).\n",
    "\n",
    "Note also that the DNN that we have considered has just 30 neurons in the hidden layers, and it is enough to learn the iris dataset properly. We could even consider less neurons, and probably the results will be good enough."
   ]
  },
  {
   "cell_type": "markdown",
   "metadata": {},
   "source": [
    "### Visualizing training performance in Tensorboard\n"
   ]
  },
  {
   "cell_type": "markdown",
   "metadata": {},
   "source": [
    "Tensorboard is a tool that allows us to visualize performance metrics such as accuracies, loss function values (cross entropy in our case), the distributions of weights and biases, etc.\n",
    "\n",
    "To use it, you should be in the folder where this notebook is located (./Delivery3) and then type in a terminal:\n",
    "\n",
    "*tensorboard --logdir tf_logs/*\n",
    "\n",
    "and then open the URL that appears in the terminal in order to open Tensorboard"
   ]
  },
  {
   "cell_type": "markdown",
   "metadata": {
    "collapsed": true
   },
   "source": [
    "## Some validations"
   ]
  },
  {
   "cell_type": "markdown",
   "metadata": {},
   "source": [
    "### Confusion matrices, train accuracy and test accuracy of the best model saved"
   ]
  },
  {
   "cell_type": "code",
   "execution_count": 17,
   "metadata": {},
   "outputs": [
    {
     "name": "stdout",
     "output_type": "stream",
     "text": [
      "INFO:tensorflow:Restoring parameters from ./simulations/simulation10/final_nn_classifier_scaled_sim10.ckpt\n",
      "\n",
      "Test accuracy of the best model saved (according to validation accuracy):  0.93333334\n",
      "Confusion matrix for test data:\n",
      " [[ 7  0  0]\n",
      " [ 0 11  0]\n",
      " [ 0  2 10]]\n",
      "\n",
      "Train accuracy of the best model saved (according to validation accuracy):  0.96666664\n",
      "Confusion matrix for train data:\n",
      " [[43  0  0]\n",
      " [ 0 35  4]\n",
      " [ 0  0 38]]\n"
     ]
    }
   ],
   "source": [
    "with tf.Session() as sess: \n",
    "    saver.restore(sess, model_file)\n",
    "    acc_test = sess.run(accuracy, feed_dict={\n",
    "                                    y: y_test,\n",
    "                                    X: X_test\n",
    "                               })\n",
    "    print(\"\\nTest accuracy of the best model saved (according to validation accuracy): \", acc_test)\n",
    "    \n",
    "    conf_mx_test = sess.run(conf_mx, feed_dict={\n",
    "                                    y: y_test,\n",
    "                                    X: X_test})\n",
    "    print('Confusion matrix for test data:\\n', conf_mx_test\n",
    "         )\n",
    "    \n",
    "    acc_train = sess.run(accuracy, feed_dict={\n",
    "                                    y: y_train,\n",
    "                                    X: X_train\n",
    "                               })\n",
    "    print(\"\\nTrain accuracy of the best model saved (according to validation accuracy): \", acc_train)\n",
    "                            \n",
    "    conf_mx_train = sess.run(conf_mx, feed_dict={\n",
    "                                    y: y_train,\n",
    "                                    X: X_train})\n",
    "    \n",
    "    print('Confusion matrix for train data:\\n', conf_mx_train\n",
    "         )"
   ]
  },
  {
   "cell_type": "raw",
   "metadata": {},
   "source": []
  }
 ],
 "metadata": {
  "kernelspec": {
   "display_name": "Python 3",
   "language": "python",
   "name": "python3"
  },
  "language_info": {
   "codemirror_mode": {
    "name": "ipython",
    "version": 3
   },
   "file_extension": ".py",
   "mimetype": "text/x-python",
   "name": "python",
   "nbconvert_exporter": "python",
   "pygments_lexer": "ipython3",
   "version": "3.5.4"
  },
  "toc": {
   "nav_menu": {},
   "number_sections": true,
   "sideBar": true,
   "skip_h1_title": false,
   "title_cell": "Table of Contents",
   "title_sidebar": "Contents",
   "toc_cell": false,
   "toc_position": {},
   "toc_section_display": true,
   "toc_window_display": false
  }
 },
 "nbformat": 4,
 "nbformat_minor": 2
}
